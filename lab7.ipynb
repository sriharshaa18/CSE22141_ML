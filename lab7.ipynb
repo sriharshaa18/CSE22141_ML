{
 "cells": [
  {
   "cell_type": "code",
   "execution_count": null,
   "id": "68e98e63-ca19-4b2a-8810-1a4c5d9c5491",
   "metadata": {},
   "outputs": [],
   "source": []
  }
 ],
 "metadata": {
  "kernelspec": {
   "display_name": "",
   "name": ""
  },
  "language_info": {
   "name": ""
  }
 },
 "nbformat": 4,
 "nbformat_minor": 5
}
